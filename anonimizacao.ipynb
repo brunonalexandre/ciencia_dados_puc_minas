{
 "cells": [
  {
   "cell_type": "code",
   "execution_count": 2,
   "metadata": {},
   "outputs": [],
   "source": [
    "import pandas as pd\n",
    "import hashlib\n",
    "import os"
   ]
  },
  {
   "cell_type": "code",
   "execution_count": 3,
   "metadata": {},
   "outputs": [
    {
     "name": "stdout",
     "output_type": "stream",
     "text": [
      "Novo diretório:  D:\\06_Pos_PUC_MINAS\\00. TCC\\00_xlsx\n"
     ]
    }
   ],
   "source": [
    "novo_dir = 'D:/06_Pos_PUC_MINAS/00. TCC/00_xlsx'\n",
    "os.chdir(novo_dir)\n",
    "print('Novo diretório: ', os.getcwd())"
   ]
  },
  {
   "cell_type": "markdown",
   "metadata": {},
   "source": [
    "## **Leitura e anonimização dos dados dos participantes do programa**"
   ]
  },
  {
   "cell_type": "code",
   "execution_count": 5,
   "metadata": {},
   "outputs": [],
   "source": [
    "#Leitura dos dados sobre acompanhamento de beneficiários pelo programa\n",
    "df = pd.read_excel('participantes_pgdc.xlsx', sheet_name='Sheet1')\n",
    "\n",
    "# Conversão das identificações de pessoas físicas em um hash SHA1 para anonimização\n",
    "df_anonimizados = df.copy()\n",
    "df_anonimizados['CD_PESSOA_FISICA'] = [hashlib.sha1(str(valor).encode()).hexdigest() for valor in df_anonimizados['CD_PESSOA_FISICA']]\n",
    "\n",
    "# Exportação do dataframe em xlsx.\n",
    "nome_arquivo = 'participantes_pgdc_anonimizada.xlsx'\n",
    "df_anonimizados.to_excel(nome_arquivo)"
   ]
  },
  {
   "cell_type": "markdown",
   "metadata": {},
   "source": [
    "## **Leitura e anonimização dos dados complementares de pessoa física**"
   ]
  },
  {
   "cell_type": "code",
   "execution_count": 8,
   "metadata": {},
   "outputs": [],
   "source": [
    "#Leitura dos dados complementares de pessoa física\n",
    "df = pd.read_excel('dim_pessoa_fisica.xlsx', sheet_name='Sheet1')\n",
    "\n",
    "# Conversão das identificações de pessoas físicas em um hash SHA1 para anonimização\n",
    "df_anonimizados = df.copy()\n",
    "df_anonimizados['CD_PESSOA_FISICA'] = [hashlib.sha1(str(valor).encode()).hexdigest() for valor in df_anonimizados['CD_PESSOA_FISICA']]\n",
    "\n",
    "# Exportação do dataframe em xlsx.\n",
    "nome_arquivo = 'dim_pessoa_fisica_anonimizada.xlsx'\n",
    "df_anonimizados.to_excel(nome_arquivo)"
   ]
  },
  {
   "cell_type": "markdown",
   "metadata": {},
   "source": [
    "## **Leitura e anonimização dos dados das contas médicas dos participantes do programa PGDC**"
   ]
  },
  {
   "cell_type": "code",
   "execution_count": 10,
   "metadata": {},
   "outputs": [],
   "source": [
    "# Leitura dos arquivos da fato_agregada_benef_local\n",
    "df = pd.read_excel('fato_custo_beneficiario.xlsx', sheet_name='Sheet1')\n",
    "\n",
    "# Anonimização da coluna CD_BENEFICIARIO do arquivo.\n",
    "df_anonimizados = df.copy()\n",
    "df_anonimizados['CD_BENEFICIARIO'] = [hashlib.sha1(str(valor).encode()).hexdigest() for valor in df['CD_BENEFICIARIO']]\n",
    "\n",
    "#Exportação em xlsx.\n",
    "nome_arquivo = 'fato_custo_beneficiario_anonimizada.xlsx'\n",
    "df_anonimizados.to_excel(nome_arquivo)"
   ]
  },
  {
   "cell_type": "code",
   "execution_count": null,
   "metadata": {},
   "outputs": [],
   "source": []
  }
 ],
 "metadata": {
  "kernelspec": {
   "display_name": "Python 3",
   "language": "python",
   "name": "python3"
  },
  "language_info": {
   "codemirror_mode": {
    "name": "ipython",
    "version": 3
   },
   "file_extension": ".py",
   "mimetype": "text/x-python",
   "name": "python",
   "nbconvert_exporter": "python",
   "pygments_lexer": "ipython3",
   "version": "3.9.13"
  },
  "orig_nbformat": 4
 },
 "nbformat": 4,
 "nbformat_minor": 2
}
